{
  "nbformat": 4,
  "nbformat_minor": 0,
  "metadata": {
    "kernelspec": {
      "display_name": "Python 3",
      "language": "python",
      "name": "python3"
    },
    "language_info": {
      "codemirror_mode": {
        "name": "ipython",
        "version": 3
      },
      "file_extension": ".py",
      "mimetype": "text/x-python",
      "name": "python",
      "nbconvert_exporter": "python",
      "pygments_lexer": "ipython3",
      "version": "3.6.8"
    },
    "colab": {
      "name": "CNN_MNIST.ipynb",
      "provenance": [],
      "collapsed_sections": []
    }
  },
  "cells": [
    {
      "cell_type": "markdown",
      "metadata": {
        "id": "pBeXgdjVkeTe",
        "colab_type": "text"
      },
      "source": [
        "## load MNIST dataset"
      ]
    },
    {
      "cell_type": "code",
      "metadata": {
        "id": "cnJW2QHPkeTZ",
        "colab_type": "code",
        "colab": {}
      },
      "source": [
        "%matplotlib inline\n",
        "import numpy as np\n",
        "import matplotlib.pyplot as plt\n",
        "import torch \n",
        "import torch.nn as nn\n",
        "import torchvision\n",
        "import torchvision.transforms as transforms\n",
        "from sklearn.metrics import accuracy_score\n",
        "\n",
        "# Device configuration\n",
        "device = torch.device(\"cuda\" if torch.cuda.is_available() else \"cpu\")\n",
        "\n",
        "# Hyper parameters\n",
        "num_epochs = 5\n",
        "num_classes = 10\n",
        "batch_size = 500\n",
        "learning_rate = 1e-3"
      ],
      "execution_count": 0,
      "outputs": []
    },
    {
      "cell_type": "code",
      "metadata": {
        "id": "VJP--8SOkeTe",
        "colab_type": "code",
        "colab": {}
      },
      "source": [
        "# MNIST dataset\n",
        "train_dataset = torchvision.datasets.MNIST(root='./mnist/', train=True, transform=transforms.ToTensor(), download=True)\n",
        "test_dataset = torchvision.datasets.MNIST(root='./mnist/', train=False, transform=transforms.ToTensor())\n",
        "\n",
        "# Data loader\n",
        "train_loader = torch.utils.data.DataLoader(dataset=train_dataset, batch_size=batch_size, shuffle=True)\n",
        "test_loader = torch.utils.data.DataLoader(dataset=test_dataset, batch_size=batch_size, shuffle=False)\n",
        "\n",
        "# Convolutional neural network (two convolutional layers)\n",
        "class ConvNet(nn.Module):\n",
        "    def __init__(self, num_classes=10):\n",
        "        super(ConvNet, self).__init__()\n",
        "        # define which structures might be used\n",
        "        self.cnn1 = nn.Sequential(\n",
        "            nn.Conv2d(1, 16, kernel_size=5, stride=1, padding=2),  # input channel=1, out channel=16\n",
        "            nn.BatchNorm2d(16),\n",
        "            nn.ReLU(),\n",
        "            nn.MaxPool2d(kernel_size=2, stride=2))\n",
        "        self.cnn2 = nn.Sequential(\n",
        "            nn.Conv2d(16, 32, kernel_size=5, stride=1, padding=2),  # input channel=16, out channel=32\n",
        "            nn.BatchNorm2d(32),\n",
        "            nn.ReLU(),\n",
        "            nn.MaxPool2d(kernel_size=2, stride=2))\n",
        "\n",
        "        ''' Finaly fullyconnected nn for classification purpose-\n",
        "        it's usally require some labor to compute the output dim of CNN'''\n",
        "        self.fc = nn.Linear(7*7*32, num_classes)\n",
        "        \n",
        "    def forward(self, x):\n",
        "        # define your own deep learning architecture here: just like playing LEGO\n",
        "        out = self.cnn1(x)\n",
        "        out = self.cnn2(out)\n",
        "        out = out.reshape(out.size(0), -1)\n",
        "        out = self.fc(out)\n",
        "        return out"
      ],
      "execution_count": 0,
      "outputs": []
    },
    {
      "cell_type": "markdown",
      "metadata": {
        "id": "ujgDhxfukeTh",
        "colab_type": "text"
      },
      "source": [
        "## Train Convolution Nets"
      ]
    },
    {
      "cell_type": "code",
      "metadata": {
        "id": "HZq9JG-RkeTh",
        "colab_type": "code",
        "colab": {
          "base_uri": "https://localhost:8080/",
          "height": 119
        },
        "outputId": "18839a46-734f-4660-9049-3a3133634d00"
      },
      "source": [
        "model = ConvNet(num_classes).to(device)\n",
        "\n",
        "# Loss and optimizer\n",
        "criterion = nn.CrossEntropyLoss()\n",
        "optimizer = torch.optim.Adam(model.parameters(), lr=learning_rate)\n",
        "\n",
        "# Train the model\n",
        "total_step = len(train_loader)\n",
        "for epoch in range(num_epochs):\n",
        "\n",
        "    # release a batch of data for training one at a time\n",
        "    for i, (X, y) in enumerate(train_loader):\n",
        "        # X=input images, y=labels\n",
        "        X, y= X.to(device), y.to(device)\n",
        "\n",
        "        # Forward pass\n",
        "        output = model(X)\n",
        "        loss = criterion(output, y)\n",
        "        _, y_pred = torch.max(output.data, 1)\n",
        "\n",
        "        # compute accuracy\n",
        "        accuracy = accuracy_score(y.cpu().data.squeeze().numpy(), y_pred.cpu().data.squeeze().numpy())\n",
        "        \n",
        "        # Backward and optimize\n",
        "        optimizer.zero_grad()\n",
        "        loss.backward()\n",
        "        optimizer.step()\n",
        "        \n",
        "        if (i+1) % 100 == 0:\n",
        "            print ('Epoch [{}/{}], Loss: {:.4f}, Accuracy: {:.2f}%'.format(epoch + 1, total_step, loss.item(), accuracy * 100))\n",
        "\n",
        "# Test the model\n",
        "model.eval()  # eval mode (batchnorm uses moving mean/variance instead of mini-batch mean/variance)\n",
        "with torch.no_grad():\n",
        "    correct = 0\n",
        "    total = 0\n",
        "\n",
        "    # release a batch of data for validating one at a time\n",
        "    for images, labels in test_loader:\n",
        "        X = X.to(device)   # input images\n",
        "        y = y.to(device)   # labels\n",
        "        output = model(X)\n",
        "        _, y_pred = torch.max(output.data, 1)\n",
        "        total += y.size(0)\n",
        "        correct += (y_pred == y).sum().item()\n",
        "\n",
        "    print('Test Accuracy of the model on the 10000 test images: {} %'.format(100 * correct / total))\n",
        "\n",
        "# Save the model parameters (checkpoint)\n",
        "# torch.save(model.state_dict(), './model.ckpt')"
      ],
      "execution_count": 3,
      "outputs": [
        {
          "output_type": "stream",
          "text": [
            "Epoch [1/120], Loss: 0.1036, Accuracy: 97.00%\n",
            "Epoch [2/120], Loss: 0.0763, Accuracy: 98.00%\n",
            "Epoch [3/120], Loss: 0.0562, Accuracy: 97.40%\n",
            "Epoch [4/120], Loss: 0.0368, Accuracy: 99.00%\n",
            "Epoch [5/120], Loss: 0.0289, Accuracy: 99.00%\n",
            "Test Accuracy of the model on the 10000 test images: 99.6 %\n"
          ],
          "name": "stdout"
        }
      ]
    },
    {
      "cell_type": "markdown",
      "metadata": {
        "id": "MI39RGTdpM3a",
        "colab_type": "text"
      },
      "source": [
        "## Show Images"
      ]
    },
    {
      "cell_type": "code",
      "metadata": {
        "id": "yZmO9h2DkeTk",
        "colab_type": "code",
        "colab": {
          "base_uri": "https://localhost:8080/",
          "height": 1000
        },
        "outputId": "4b7eefce-eeb4-41af-ad7e-a8dc416d9112"
      },
      "source": [
        "k = np.random.choice(20, 5)\n",
        "for i in k:\n",
        "  image, label, pred = X[i].squeeze(0).numpy(), y[i].numpy().item(), y_pred[i].numpy().item()\n",
        "  plt.figure()\n",
        "  plt.imshow(image, cmap='gray')\n",
        "  plt.title('predict: {}, label: {}'.format(pred, label))\n",
        "  plt.axis('off')\n",
        "  plt.show()"
      ],
      "execution_count": 31,
      "outputs": [
        {
          "output_type": "display_data",
          "data": {
            "image/png": "[encoded data removed]",
            "text/plain": [
              "<Figure size 432x288 with 1 Axes>"
            ]
          },
          "metadata": {
            "tags": []
          }
        },
        {
          "output_type": "display_data",
          "data": {
            "image/png": "[encoded data removed]",
            "text/plain": [
              "<Figure size 432x288 with 1 Axes>"
            ]
          },
          "metadata": {
            "tags": []
          }
        },
        {
          "output_type": "display_data",
          "data": {
            "image/png": "[encoded data removed]",
            "text/plain": [
              "<Figure size 432x288 with 1 Axes>"
            ]
          },
          "metadata": {
            "tags": []
          }
        },
        {
          "output_type": "display_data",
          "data": {
            "image/png": "[encoded data removed]",
            "text/plain": [
              "<Figure size 432x288 with 1 Axes>"
            ]
          },
          "metadata": {
            "tags": []
          }
        },
        {
          "output_type": "display_data",
          "data": {
            "image/png": "[encoded data removed]",
            "text/plain": [
              "<Figure size 432x288 with 1 Axes>"
            ]
          },
          "metadata": {
            "tags": []
          }
        }
      ]
    },
    {
      "cell_type": "code",
      "metadata": {
        "id": "yVJL4REPp3MR",
        "colab_type": "code",
        "colab": {}
      },
      "source": [
        ""
      ],
      "execution_count": 0,
      "outputs": []
    }
  ]
}